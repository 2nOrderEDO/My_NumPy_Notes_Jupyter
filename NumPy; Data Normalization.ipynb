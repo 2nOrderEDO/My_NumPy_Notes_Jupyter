{
 "cells": [
  {
   "cell_type": "code",
   "execution_count": 2,
   "metadata": {},
   "outputs": [
    {
     "name": "stdout",
     "output_type": "stream",
     "text": [
      "[[4 4 7 0]\n",
      " [2 9 7 7]\n",
      " [8 2 5 2]\n",
      " [5 8 8 5]]\n"
     ]
    }
   ],
   "source": [
    "import numpy as np\n",
    "\n",
    "X = np.random.randint(0, 10, size= (4, 4))\n",
    "print(X)"
   ]
  },
  {
   "cell_type": "code",
   "execution_count": 5,
   "metadata": {},
   "outputs": [
    {
     "name": "stdout",
     "output_type": "stream",
     "text": [
      "[4.75 5.75 6.75 3.5 ]\n",
      "[2.16506351 2.86138079 1.08972474 2.6925824 ]\n"
     ]
    }
   ],
   "source": [
    "ave_cols = X.mean(axis= 0)\n",
    "std_cols = X.std(axis= 0)\n",
    "print(ave_cols)\n",
    "print(std_cols)"
   ]
  },
  {
   "cell_type": "code",
   "execution_count": 9,
   "metadata": {},
   "outputs": [
    {
     "name": "stdout",
     "output_type": "stream",
     "text": [
      "[[-0.34641016 -0.61159284  0.22941573 -1.29986737]\n",
      " [-1.27017059  1.13581527  0.22941573  1.29986737]\n",
      " [ 1.5011107  -1.31055608 -1.60591014 -0.55708601]\n",
      " [ 0.11547005  0.78633365  1.14707867  0.55708601]]\n"
     ]
    }
   ],
   "source": [
    "X_norm = (X - ave_cols) / std_cols\n",
    "print(X_norm)"
   ]
  },
  {
   "cell_type": "code",
   "execution_count": 11,
   "metadata": {},
   "outputs": [
    {
     "name": "stdout",
     "output_type": "stream",
     "text": [
      "5.551115123125783e-17\n",
      "[1.5011107  1.13581527 1.14707867 1.29986737]\n",
      "[-1.27017059 -1.31055608 -1.60591014 -1.29986737]\n"
     ]
    }
   ],
   "source": [
    "print(X_norm.mean())\n",
    "print(X_norm.max(axis= 0))\n",
    "print(X_norm.min(axis= 0))"
   ]
  }
 ],
 "metadata": {
  "kernelspec": {
   "display_name": "Python 3",
   "language": "python",
   "name": "python3"
  },
  "language_info": {
   "codemirror_mode": {
    "name": "ipython",
    "version": 3
   },
   "file_extension": ".py",
   "mimetype": "text/x-python",
   "name": "python",
   "nbconvert_exporter": "python",
   "pygments_lexer": "ipython3",
   "version": "3.6.5"
  }
 },
 "nbformat": 4,
 "nbformat_minor": 2
}
