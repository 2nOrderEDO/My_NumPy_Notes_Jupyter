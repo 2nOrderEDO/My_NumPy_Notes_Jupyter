{
 "cells": [
  {
   "cell_type": "code",
   "execution_count": 1,
   "metadata": {},
   "outputs": [],
   "source": [
    "import numpy as np"
   ]
  },
  {
   "cell_type": "markdown",
   "metadata": {},
   "source": [
    "**Boolean indexing**"
   ]
  },
  {
   "cell_type": "code",
   "execution_count": 44,
   "metadata": {},
   "outputs": [
    {
     "name": "stdout",
     "output_type": "stream",
     "text": [
      "[[59  6 43 45 79]\n",
      " [24 62  0  2 78]\n",
      " [35 23 93  0  4]\n",
      " [62 40  5 18 14]\n",
      " [74 18 60  9 64]]\n"
     ]
    }
   ],
   "source": [
    "X = np.random.randint(100, size= (5,5))\n",
    "print(X)"
   ]
  },
  {
   "cell_type": "code",
   "execution_count": 45,
   "metadata": {},
   "outputs": [
    {
     "name": "stdout",
     "output_type": "stream",
     "text": [
      "[ 6 43 24  0  2 35 23  0  4 40  5 18 14 18  9]\n"
     ]
    }
   ],
   "source": [
    "print(X[X < 45])"
   ]
  },
  {
   "cell_type": "code",
   "execution_count": 46,
   "metadata": {},
   "outputs": [
    {
     "name": "stdout",
     "output_type": "stream",
     "text": [
      "[24 23 18 14 18]\n"
     ]
    }
   ],
   "source": [
    "print(X[(X > 10) & (X < 30)])"
   ]
  },
  {
   "cell_type": "markdown",
   "metadata": {},
   "source": [
    "**Boolean indexing and assignment operation**"
   ]
  },
  {
   "cell_type": "code",
   "execution_count": 48,
   "metadata": {},
   "outputs": [
    {
     "name": "stdout",
     "output_type": "stream",
     "text": [
      "[[59  6 43 45 79]\n",
      " [ 0 62  0  2 78]\n",
      " [35  0 93  0  4]\n",
      " [62 40  5  0  0]\n",
      " [74  0 60  9 64]]\n"
     ]
    }
   ],
   "source": [
    "X[(X > 10) & (X < 30)] = 0\n",
    "print(X)"
   ]
  },
  {
   "cell_type": "markdown",
   "metadata": {},
   "source": [
    "**Set operations**"
   ]
  },
  {
   "cell_type": "code",
   "execution_count": 52,
   "metadata": {},
   "outputs": [
    {
     "name": "stdout",
     "output_type": "stream",
     "text": [
      "[2 4]\n",
      "[1 3 5]\n",
      "[1 2 3 4 5 6 7 8]\n"
     ]
    }
   ],
   "source": [
    "x = np.array([1, 2, 3, 4, 5])\n",
    "y = np.array([6, 7, 2, 8, 4])\n",
    "\n",
    "print(np.intersect1d(x, y))\n",
    "print(np.setdiff1d(x, y))\n",
    "print(np.union1d(x, y))"
   ]
  }
 ],
 "metadata": {
  "kernelspec": {
   "display_name": "Python 3",
   "language": "python",
   "name": "python3"
  },
  "language_info": {
   "codemirror_mode": {
    "name": "ipython",
    "version": 3
   },
   "file_extension": ".py",
   "mimetype": "text/x-python",
   "name": "python",
   "nbconvert_exporter": "python",
   "pygments_lexer": "ipython3",
   "version": "3.6.5"
  }
 },
 "nbformat": 4,
 "nbformat_minor": 2
}
