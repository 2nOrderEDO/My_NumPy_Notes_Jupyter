{
 "cells": [
  {
   "cell_type": "code",
   "execution_count": 2,
   "metadata": {},
   "outputs": [],
   "source": [
    "import numpy as np"
   ]
  },
  {
   "cell_type": "markdown",
   "metadata": {},
   "source": [
    "**Boolean indexing**"
   ]
  },
  {
   "cell_type": "code",
   "execution_count": 3,
   "metadata": {},
   "outputs": [
    {
     "name": "stdout",
     "output_type": "stream",
     "text": [
      "[[61 13 34 28 18]\n",
      " [40 47 11 76 96]\n",
      " [60 19 94 17 85]\n",
      " [64 82 74 87  2]\n",
      " [25 87  2 57  6]]\n"
     ]
    }
   ],
   "source": [
    "X = np.random.randint(100, size= (5,5))\n",
    "print(X)"
   ]
  },
  {
   "cell_type": "code",
   "execution_count": 4,
   "metadata": {},
   "outputs": [
    {
     "name": "stdout",
     "output_type": "stream",
     "text": [
      "[13 34 28 18 40 11 19 17  2 25  2  6]\n"
     ]
    }
   ],
   "source": [
    "print(X[X < 45])"
   ]
  },
  {
   "cell_type": "code",
   "execution_count": 5,
   "metadata": {},
   "outputs": [
    {
     "name": "stdout",
     "output_type": "stream",
     "text": [
      "[13 28 18 11 19 17 25]\n"
     ]
    }
   ],
   "source": [
    "print(X[(X > 10) & (X < 30)])"
   ]
  },
  {
   "cell_type": "markdown",
   "metadata": {},
   "source": [
    "**Boolean indexing and assignment operation**"
   ]
  },
  {
   "cell_type": "code",
   "execution_count": 6,
   "metadata": {},
   "outputs": [
    {
     "name": "stdout",
     "output_type": "stream",
     "text": [
      "[[61  0 34  0  0]\n",
      " [40 47  0 76 96]\n",
      " [60  0 94  0 85]\n",
      " [64 82 74 87  2]\n",
      " [ 0 87  2 57  6]]\n"
     ]
    }
   ],
   "source": [
    "X[(X > 10) & (X < 30)] = 0\n",
    "print(X)"
   ]
  },
  {
   "cell_type": "markdown",
   "metadata": {},
   "source": [
    "**Set operations**"
   ]
  },
  {
   "cell_type": "code",
   "execution_count": 7,
   "metadata": {},
   "outputs": [
    {
     "name": "stdout",
     "output_type": "stream",
     "text": [
      "[2 4]\n",
      "[1 3 5]\n",
      "[1 2 3 4 5 6 7 8]\n"
     ]
    }
   ],
   "source": [
    "x = np.array([1, 2, 3, 4, 5])\n",
    "y = np.array([6, 7, 2, 8, 4])\n",
    "\n",
    "print(np.intersect1d(x, y))\n",
    "print(np.setdiff1d(x, y))\n",
    "print(np.union1d(x, y))"
   ]
  },
  {
   "cell_type": "markdown",
   "metadata": {},
   "source": [
    "**Sorting operations**"
   ]
  },
  {
   "cell_type": "code",
   "execution_count": 11,
   "metadata": {},
   "outputs": [
    {
     "name": "stdout",
     "output_type": "stream",
     "text": [
      "[ 6  3 10  7  5  2  2  9  8  5]\n",
      "[ 2  2  3  5  5  6  7  8  9 10]\n"
     ]
    }
   ],
   "source": [
    "x = np.random.randint(1, 11, size= 10)\n",
    "print(x)\n",
    "print(np.sort(x)) # Sort from min to max"
   ]
  },
  {
   "cell_type": "code",
   "execution_count": 12,
   "metadata": {},
   "outputs": [
    {
     "name": "stdout",
     "output_type": "stream",
     "text": [
      "[ 2  3  5  6  7  8  9 10]\n"
     ]
    }
   ],
   "source": [
    "print(np.sort(np.unique(x)))"
   ]
  },
  {
   "cell_type": "code",
   "execution_count": 13,
   "metadata": {},
   "outputs": [
    {
     "name": "stdout",
     "output_type": "stream",
     "text": [
      "[ 2  2  3  5  5  6  7  8  9 10]\n"
     ]
    }
   ],
   "source": [
    "x.sort() # This one affects the original array\n",
    "print(x)"
   ]
  },
  {
   "cell_type": "code",
   "execution_count": 16,
   "metadata": {},
   "outputs": [
    {
     "name": "stdout",
     "output_type": "stream",
     "text": [
      "[[ 6  2  3  9  9]\n",
      " [ 7  3  8  4  2]\n",
      " [ 7  5  9  9 10]\n",
      " [10  6  8 10  7]\n",
      " [ 8  7  6  1  5]]\n"
     ]
    }
   ],
   "source": [
    "X = np.random.randint(1, 11, size= (5, 5))\n",
    "print(X)"
   ]
  },
  {
   "cell_type": "code",
   "execution_count": 19,
   "metadata": {},
   "outputs": [
    {
     "name": "stdout",
     "output_type": "stream",
     "text": [
      "[[ 6  2  3  1  2]\n",
      " [ 7  3  6  4  5]\n",
      " [ 7  5  8  9  7]\n",
      " [ 8  6  8  9  9]\n",
      " [10  7  9 10 10]]\n"
     ]
    }
   ],
   "source": [
    "print(np.sort(X, axis= 0)) # Sort by rows"
   ]
  },
  {
   "cell_type": "code",
   "execution_count": 18,
   "metadata": {},
   "outputs": [
    {
     "name": "stdout",
     "output_type": "stream",
     "text": [
      "[[ 2  3  6  9  9]\n",
      " [ 2  3  4  7  8]\n",
      " [ 5  7  9  9 10]\n",
      " [ 6  7  8 10 10]\n",
      " [ 1  5  6  7  8]]\n"
     ]
    }
   ],
   "source": [
    "print(np.sort(X, axis= 1)) # Sort by columns"
   ]
  }
 ],
 "metadata": {
  "kernelspec": {
   "display_name": "Python 3",
   "language": "python",
   "name": "python3"
  },
  "language_info": {
   "codemirror_mode": {
    "name": "ipython",
    "version": 3
   },
   "file_extension": ".py",
   "mimetype": "text/x-python",
   "name": "python",
   "nbconvert_exporter": "python",
   "pygments_lexer": "ipython3",
   "version": "3.6.5"
  }
 },
 "nbformat": 4,
 "nbformat_minor": 2
}
